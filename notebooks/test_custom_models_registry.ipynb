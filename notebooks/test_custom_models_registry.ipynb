{
 "cells": [
  {
   "cell_type": "markdown",
   "id": "0",
   "metadata": {
    "tags": []
   },
   "source": [
    "# runs04_vits"
   ]
  },
  {
   "cell_type": "code",
   "execution_count": null,
   "id": "1",
   "metadata": {},
   "outputs": [],
   "source": [
    "import modelvshuman\n",
    "from modelvshuman.models.pytorch.confignets.runs04_vits import load_model"
   ]
  },
  {
   "cell_type": "code",
   "execution_count": null,
   "id": "2",
   "metadata": {},
   "outputs": [],
   "source": [
    "# model = load_model(model_name='vit_tiny_patch16_224_mlp_configclr2_alpha090_3', pretrained=True)\n",
    "model = load_model(model_name='vit_base_patch16_224_mlp_simclr_3', pretrained=True)\n",
    "model"
   ]
  },
  {
   "cell_type": "code",
   "execution_count": null,
   "id": "3",
   "metadata": {},
   "outputs": [],
   "source": [
    "1/0.03137254901960784, 1/32"
   ]
  },
  {
   "cell_type": "code",
   "execution_count": null,
   "id": "4",
   "metadata": {},
   "outputs": [],
   "source": [
    "import torch\n",
    "\n",
    "x = torch.rand(10, 3, 224, 224)\n",
    "model.eval()\n",
    "with torch.no_grad():\n",
    "    output = model(x)\n",
    "output.shape"
   ]
  },
  {
   "cell_type": "code",
   "execution_count": null,
   "id": "5",
   "metadata": {},
   "outputs": [],
   "source": [
    "with torch.no_grad():\n",
    "    output, layer_outputs = feat, layer_outputs = model.model.forward_features(x)\n",
    "for l in layer_outputs: print(l.shape)    "
   ]
  },
  {
   "cell_type": "code",
   "execution_count": null,
   "id": "6",
   "metadata": {},
   "outputs": [],
   "source": [
    "output[0].shape"
   ]
  },
  {
   "cell_type": "markdown",
   "id": "7",
   "metadata": {},
   "source": [
    "# adversarially_robust_alexnets"
   ]
  },
  {
   "cell_type": "code",
   "execution_count": null,
   "id": "8",
   "metadata": {},
   "outputs": [],
   "source": [
    "import modelvshuman\n",
    "from modelvshuman.models.pytorch.model_rearing.adversarially_robust_alexnets import load_model"
   ]
  },
  {
   "cell_type": "code",
   "execution_count": null,
   "id": "9",
   "metadata": {},
   "outputs": [],
   "source": [
    "model = load_model(\"alexnet2023_baseline_pgd\", pretrained=True)\n",
    "model"
   ]
  },
  {
   "cell_type": "code",
   "execution_count": null,
   "id": "10",
   "metadata": {},
   "outputs": [],
   "source": [
    "import torch\n",
    "\n",
    "x = torch.rand(10,3,224,224)\n",
    "model.eval()\n",
    "with torch.no_grad():\n",
    "    out = model(x)\n",
    "x.shape, out.shape"
   ]
  },
  {
   "cell_type": "code",
   "execution_count": null,
   "id": "11",
   "metadata": {},
   "outputs": [],
   "source": [
    "from model_rearing_workshop.models import load_model_from_weights\n",
    "from model_rearing_workshop.models.weights import Weights, get_standard_transforms\n",
    "\n",
    "model_weight_params = dict(\n",
    "    alexnet2023_baseline_pgd =  dict(    \n",
    "        url='https://s3.wasabisys.com/visionlab-members/alvarez/Projects/model_rearing_workshop/models/in1k/alexnet2023_baseline/supervised/20231202_060532/final_weights-5bb4b657e4.pth',\n",
    "        transforms=None, # Add your transforms here\n",
    "        meta={\n",
    "            \"repo\": \"https://github.com/harvard-visionlab/model-rearing-workshop\",\n",
    "            \"urls\": dict(\n",
    "                params='https://s3.us-east-1.wasabisys.com/visionlab-members/alvarez/Projects/model_rearing_workshop/models/in1k/alexnet2023_baseline/supervised/20231202_060532/params-5bb4b657e4.json',\n",
    "                train='https://s3.wasabisys.com/visionlab-members/alvarez/Projects/model_rearing_workshop/models/in1k/alexnet2023_baseline/supervised/20231202_060532/log_train-5bb4b657e4.txt',\n",
    "                val='https://s3.wasabisys.com/visionlab-members/alvarez/Projects/model_rearing_workshop/models/in1k/alexnet2023_baseline/supervised/20231202_060532/log_val-5bb4b657e4.txt',\n",
    "            ),\n",
    "            \"_metrics\": {},\n",
    "            \"_docs\": \"\"\"\n",
    "                ....\n",
    "            \"\"\",\n",
    "        },\n",
    "    ),\n",
    ")\n",
    "\n",
    "weights_name = \"alexnet2023_baseline_pgd\"\n",
    "weights = Weights(**model_weight_params[weights_name])\n"
   ]
  },
  {
   "cell_type": "code",
   "execution_count": null,
   "id": "12",
   "metadata": {},
   "outputs": [],
   "source": [
    "weights.get_train_params()"
   ]
  },
  {
   "cell_type": "code",
   "execution_count": null,
   "id": "13",
   "metadata": {},
   "outputs": [],
   "source": []
  }
 ],
 "metadata": {
  "kernelspec": {
   "display_name": "modelvshuman",
   "language": "python",
   "name": "modelvshuman"
  },
  "language_info": {
   "codemirror_mode": {
    "name": "ipython",
    "version": 3
   },
   "file_extension": ".py",
   "mimetype": "text/x-python",
   "name": "python",
   "nbconvert_exporter": "python",
   "pygments_lexer": "ipython3",
   "version": "3.10.12"
  }
 },
 "nbformat": 4,
 "nbformat_minor": 5
}
